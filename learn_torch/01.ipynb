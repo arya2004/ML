{
 "cells": [
  {
   "cell_type": "code",
   "execution_count": 457,
   "metadata": {},
   "outputs": [
    {
     "data": {
      "text/plain": [
       "'2.1.0.post100'"
      ]
     },
     "execution_count": 457,
     "metadata": {},
     "output_type": "execute_result"
    }
   ],
   "source": [
    "import torch\n",
    "from torch import nn\n",
    "import matplotlib.pyplot as plt\n",
    "import numpy as np\n",
    "\n",
    "torch.__version__\n"
   ]
  },
  {
   "cell_type": "markdown",
   "metadata": {},
   "source": [
    "# Data Preparing and loading"
   ]
  },
  {
   "cell_type": "code",
   "execution_count": 458,
   "metadata": {},
   "outputs": [],
   "source": [
    "# Create known parameters\n",
    "weight = 0.7\n",
    "bias = 0.3\n",
    "\n",
    "# in linear reqgression, weight is 'b' and bias is 'a' from\n",
    "# Y = a + bX\n",
    "\n",
    "start = 0\n",
    "end = 1\n",
    "step = 0.02\n",
    "X = torch.arange(start, end, step).unsqueeze(dim=1)\n",
    "y = weight * X + bias\n",
    "#unsqueeze adds one more bracket"
   ]
  },
  {
   "cell_type": "code",
   "execution_count": 459,
   "metadata": {},
   "outputs": [],
   "source": [
    "# Splitting in training(60-80) and test(20-40) set\n",
    "\n",
    "train_split = int(0.8 * len(X))\n",
    "X_train, y_train = X[:train_split], y[:train_split]\n",
    "X_test,y_test = X[train_split:], y[train_split:]\n"
   ]
  },
  {
   "cell_type": "code",
   "execution_count": 460,
   "metadata": {},
   "outputs": [],
   "source": [
    "def plot_predictions(train_data=X_train, train_lables=y_train, test_data=X_test, test_labels=y_test, predictions=None):\n",
    "    #plots training daat, test data and compare predictiosn\n",
    "    plt.figure(figsize=(10,7))\n",
    "    #Plot training data in blue\n",
    "    plt.scatter(train_data, train_lables, c=\"b\", s=4, label=\"Training data\")\n",
    "    #Plot test data in green\n",
    "    plt.scatter(test_data, test_labels, c=\"g\", s=4, label=\"Testing data\")\n",
    "    # plot predictions if exist\n",
    "\n",
    "    if predictions is not None:\n",
    "        plt.scatter(test_data, predictions, c=\"r\", s=4, label=\"Prediction\")\n",
    "    #legend\n",
    "        \n",
    "    plt.legend(prop={\"size\": 14});\n"
   ]
  },
  {
   "cell_type": "code",
   "execution_count": 461,
   "metadata": {},
   "outputs": [
    {
     "data": {
      "image/png": "[encoded data removed]",
      "text/plain": [
       "<Figure size 1000x700 with 1 Axes>"
      ]
     },
     "metadata": {},
     "output_type": "display_data"
    }
   ],
   "source": [
    "plot_predictions()"
   ]
  },
  {
   "cell_type": "code",
   "execution_count": 462,
   "metadata": {},
   "outputs": [],
   "source": [
    "# create a model with param as A and B\n",
    "# Create linear regression model class\n",
    "\n",
    "class LinearRegressionModel(nn.Module): #inherits from nn.module\n",
    "    def __init__(self):\n",
    "        super().__init__()\n",
    "        self.weights = nn.Parameter(torch.randn(1, requires_grad=True, dtype=torch.float))\n",
    "        self.bias = nn.Parameter(torch.randn(1, requires_grad=True,dtype=torch.float))\n",
    "\n",
    "\n",
    "    # Forward Method to define computation in Model\n",
    "    # x is input data\n",
    "    def forward(self, x: torch.Tensor) -> torch.Tensor: \n",
    "        return self.weights * x + self.bias\n",
    "\n",
    "\n"
   ]
  },
  {
   "cell_type": "markdown",
   "metadata": {},
   "source": [
    "What model does:\n",
    "*  start with random values of weight and bias\n",
    "* Look at training data and adjust the random vaues to get closer to ideal values\n",
    "\n",
    "\n",
    "How it does?\n",
    "1. Gradient Descent\n",
    "2. Back propogation\n",
    "\n",
    "\n",
    "\n",
    "### TOrch model building essentials\n",
    "\n",
    "* torch.nn - contains all building blocks for Neural Network\n",
    "\n",
    "* toech.nn.Parameter - Stores tensors that can be used with nn.Module. If requires_grad=True gradients (used for updating model parameters via gradient descent) are calculated automatically, this is often referred to as \"autograd\".\n",
    "\n",
    "* torch.nn.Module - The base class for all neural network modules, all the building blocks for neural networks are subclasses. If you're building a neural network in PyTorch, your models should subclass nn.Module. Requires a f`orward()` method be implemented.\n",
    "\n",
    "* torch.optim - Contains various optimization algorithms (these tell the model parameters stored in nn.Parameter how to best change to improve gradient descent and in turn reduce the loss).\n",
    "\n",
    "* `def forward()` All nn.Module subclasses require you to override forward(), this is what happens in forward computation\n"
   ]
  },
  {
   "cell_type": "markdown",
   "metadata": {},
   "source": []
  },
  {
   "cell_type": "code",
   "execution_count": 463,
   "metadata": {},
   "outputs": [
    {
     "data": {
      "text/plain": [
       "[Parameter containing:\n",
       " tensor([0.1446], requires_grad=True),\n",
       " Parameter containing:\n",
       " tensor([-0.1165], requires_grad=True)]"
      ]
     },
     "execution_count": 463,
     "metadata": {},
     "output_type": "execute_result"
    }
   ],
   "source": [
    "torch.manual_seed(57)\n",
    "\n",
    "model_0 = LinearRegressionModel()\n",
    "\n",
    "list(model_0.parameters())\n"
   ]
  },
  {
   "cell_type": "code",
   "execution_count": 464,
   "metadata": {},
   "outputs": [
    {
     "data": {
      "text/plain": [
       "OrderedDict([('weights', tensor([0.1446])), ('bias', tensor([-0.1165]))])"
      ]
     },
     "execution_count": 464,
     "metadata": {},
     "output_type": "execute_result"
    }
   ],
   "source": [
    "model_0.state_dict()"
   ]
  },
  {
   "cell_type": "code",
   "execution_count": 465,
   "metadata": {},
   "outputs": [
    {
     "data": {
      "text/plain": [
       "tensor([[-0.0008],\n",
       "        [ 0.0021],\n",
       "        [ 0.0050],\n",
       "        [ 0.0079],\n",
       "        [ 0.0108],\n",
       "        [ 0.0136],\n",
       "        [ 0.0165],\n",
       "        [ 0.0194],\n",
       "        [ 0.0223],\n",
       "        [ 0.0252]])"
      ]
     },
     "execution_count": 465,
     "metadata": {},
     "output_type": "execute_result"
    }
   ],
   "source": [
    "# Make predictions using torch.inference_mode()\n",
    "# When we pass data to our model, it'll go through the model's forward() method and produce a result using the computation we've defined.\n",
    "\n",
    "with torch.inference_mode():\n",
    "    y_preds = model_0(X_test)\n",
    "\n",
    "y_preds\n",
    "\n",
    "#inference reduces gradient"
   ]
  },
  {
   "cell_type": "code",
   "execution_count": 466,
   "metadata": {},
   "outputs": [
    {
     "data": {
      "image/png": "[encoded data removed]",
      "text/plain": [
       "<Figure size 1000x700 with 1 Axes>"
      ]
     },
     "metadata": {},
     "output_type": "display_data"
    }
   ],
   "source": [
    "plot_predictions(predictions=y_preds)"
   ]
  },
  {
   "cell_type": "code",
   "execution_count": 467,
   "metadata": {},
   "outputs": [],
   "source": [
    "# idea of training is to move from randomm param to some known params\n",
    "\n",
    "# One way to measure how poor or wrong your model predictions are is to use a loss func\n",
    "\n",
    "# Loss func is also called cost func or criterion\n",
    "\n",
    "# 5:45:41\n",
    "# loss func is measure of how wrong your predictions are compared to OG\n",
    "\n",
    "# optimizer: Takes into account loss of model and adjust the params\n",
    "\n",
    "# For torch, we need a training loop and a testing loop"
   ]
  },
  {
   "cell_type": "code",
   "execution_count": 468,
   "metadata": {},
   "outputs": [],
   "source": [
    "# set up Loss function (pick fron many)\n",
    "\n",
    "loss_fn = nn.L1Loss()\n",
    "\n",
    "\n",
    "# setup an optimizer (pick fron many)\n",
    "# stochastic gradient descent\n",
    "\n",
    "# LR := learning rate , most imp param\n",
    "# smol Lr, smol change in param\n",
    "\n",
    "optimizer = torch.optim.SGD(params=model_0.parameters(), \n",
    "                            lr=0.01) "
   ]
  },
  {
   "cell_type": "markdown",
   "metadata": {},
   "source": [
    "#### Training Loop (and testing) in Torch\n",
    "\n",
    "0. Loop through data\n",
    "1. Forward pass (involve data moving through model's `forward()` func) := called as forward propogation\n",
    "2. Calculate the loss (compare forward pass prediction to ground truth lable)\n",
    "3. OPtimizer zero grad\n",
    "4. Loss backward - move backwards through network to calculate gradients of each param of model wrt loss (**back propogation**)\n",
    "\n",
    "5. Optimizer step := use to adjust model's param to try and improve loss  (**gradient descent**)"
   ]
  },
  {
   "cell_type": "code",
   "execution_count": 469,
   "metadata": {},
   "outputs": [
    {
     "name": "stdout",
     "output_type": "stream",
     "text": [
      "Epoch: 0 | Train loss: 0.6331005692481995 | Test loss: 0.8973290324211121\n",
      "OrderedDict({'weights': tensor([0.1485]), 'bias': tensor([-0.1065])})\n",
      "Epoch: 10 | Train loss: 0.5178905725479126 | Test loss: 0.7626189589500427\n",
      "OrderedDict({'weights': tensor([0.1875]), 'bias': tensor([-0.0065])})\n",
      "Epoch: 20 | Train loss: 0.40268057584762573 | Test loss: 0.6279088258743286\n",
      "OrderedDict({'weights': tensor([0.2265]), 'bias': tensor([0.0935])})\n",
      "Epoch: 30 | Train loss: 0.2874705195426941 | Test loss: 0.49319887161254883\n",
      "OrderedDict({'weights': tensor([0.2655]), 'bias': tensor([0.1935])})\n",
      "Epoch: 40 | Train loss: 0.1722605675458908 | Test loss: 0.3584889769554138\n",
      "OrderedDict({'weights': tensor([0.3045]), 'bias': tensor([0.2935])})\n",
      "Epoch: 50 | Train loss: 0.09272889047861099 | Test loss: 0.24898043274879456\n",
      "OrderedDict({'weights': tensor([0.3422]), 'bias': tensor([0.3695])})\n",
      "Epoch: 60 | Train loss: 0.06873656809329987 | Test loss: 0.1875862181186676\n",
      "OrderedDict({'weights': tensor([0.3729]), 'bias': tensor([0.4035])})\n",
      "Epoch: 70 | Train loss: 0.061151426285505295 | Test loss: 0.15522626042366028\n",
      "OrderedDict({'weights': tensor([0.3969]), 'bias': tensor([0.4145])})\n",
      "Epoch: 80 | Train loss: 0.057039421051740646 | Test loss: 0.13811315596103668\n",
      "OrderedDict({'weights': tensor([0.4167]), 'bias': tensor([0.4140])})\n",
      "Epoch: 90 | Train loss: 0.05354942008852959 | Test loss: 0.127093106508255\n",
      "OrderedDict({'weights': tensor([0.4347]), 'bias': tensor([0.4090])})\n",
      "Epoch: 100 | Train loss: 0.05005943030118942 | Test loss: 0.11607303470373154\n",
      "OrderedDict({'weights': tensor([0.4527]), 'bias': tensor([0.4040])})\n",
      "Epoch: 110 | Train loss: 0.046625591814517975 | Test loss: 0.10848736763000488\n",
      "OrderedDict({'weights': tensor([0.4697]), 'bias': tensor([0.3965])})\n",
      "Epoch: 120 | Train loss: 0.04319461062550545 | Test loss: 0.10021481662988663\n",
      "OrderedDict({'weights': tensor([0.4868]), 'bias': tensor([0.3895])})\n",
      "Epoch: 130 | Train loss: 0.03975581377744675 | Test loss: 0.09194231778383255\n",
      "OrderedDict({'weights': tensor([0.5040]), 'bias': tensor([0.3825])})\n",
      "Epoch: 140 | Train loss: 0.036323655396699905 | Test loss: 0.0843566507101059\n",
      "OrderedDict({'weights': tensor([0.5209]), 'bias': tensor([0.3750])})\n",
      "Epoch: 150 | Train loss: 0.03289099410176277 | Test loss: 0.07608410716056824\n",
      "OrderedDict({'weights': tensor([0.5381]), 'bias': tensor([0.3680])})\n",
      "Epoch: 160 | Train loss: 0.029452193528413773 | Test loss: 0.06781156361103058\n",
      "OrderedDict({'weights': tensor([0.5553]), 'bias': tensor([0.3610])})\n",
      "Epoch: 170 | Train loss: 0.026021722704172134 | Test loss: 0.060225896537303925\n",
      "OrderedDict({'weights': tensor([0.5722]), 'bias': tensor([0.3535])})\n",
      "Epoch: 180 | Train loss: 0.022587373852729797 | Test loss: 0.05195336416363716\n",
      "OrderedDict({'weights': tensor([0.5894]), 'bias': tensor([0.3465])})\n",
      "Epoch: 190 | Train loss: 0.0191485695540905 | Test loss: 0.043680816888809204\n",
      "OrderedDict({'weights': tensor([0.6065]), 'bias': tensor([0.3395])})\n",
      "Epoch: 200 | Train loss: 0.015719790011644363 | Test loss: 0.036095160990953445\n",
      "OrderedDict({'weights': tensor([0.6235]), 'bias': tensor([0.3320])})\n",
      "Epoch: 210 | Train loss: 0.01228375919163227 | Test loss: 0.027822619304060936\n",
      "OrderedDict({'weights': tensor([0.6406]), 'bias': tensor([0.3250])})\n",
      "Epoch: 220 | Train loss: 0.008846299722790718 | Test loss: 0.020236963406205177\n",
      "OrderedDict({'weights': tensor([0.6576]), 'bias': tensor([0.3175])})\n",
      "Epoch: 230 | Train loss: 0.005417859647423029 | Test loss: 0.011964422650635242\n",
      "OrderedDict({'weights': tensor([0.6748]), 'bias': tensor([0.3105])})\n",
      "Epoch: 240 | Train loss: 0.002007963601499796 | Test loss: 0.0051191747188568115\n",
      "OrderedDict({'weights': tensor([0.6914]), 'bias': tensor([0.3025])})\n"
     ]
    }
   ],
   "source": [
    "torch.manual_seed(57)\n",
    "\n",
    "# epoch is one loop through data, hyperparameter\n",
    "epochs = 250\n",
    "\n",
    "epoch_count = []\n",
    "loss_values = []\n",
    "test_loss_values = []\n",
    "\n",
    "# Training\n",
    "\n",
    "# 0.\n",
    "for epoch in range(epochs):\n",
    "    #train mode sets all param that require gradient to gradient\n",
    "    model_0.train()\n",
    "\n",
    "    # 1.\n",
    "    y_pred = model_0(X_train)\n",
    "\n",
    "    # 2.\n",
    "    loss = loss_fn(y_pred, y_train)\n",
    "    # 3. \n",
    "    optimizer.zero_grad() # make it zero, because it accumulates garbage value\n",
    "\n",
    "\n",
    "    # 4.\n",
    "    loss.backward()\n",
    "\n",
    "    # 5.\n",
    "\n",
    "    optimizer.step() \n",
    "\n",
    "    # tessting\n",
    "    model_0.eval() # turns off gradient tracking, not needed for testing\n",
    "\n",
    "    with torch.inference_mode():\n",
    "        #1. do forward pass\n",
    "        test_pred = model_0(X_test)\n",
    "\n",
    "        #2. calculate test loss\n",
    "        test_loss = loss_fn(test_pred, y_test)\n",
    "\n",
    "    \n",
    "\n",
    "    if epoch % 10 == 0:\n",
    "        epoch_count.append(epoch)\n",
    "        loss_values.append(loss)\n",
    "        test_loss_values.append(test_loss)\n",
    "        \n",
    "        print(f\"Epoch: {epoch} | Train loss: {loss} | Test loss: {test_loss}\")\n",
    "        # print state\n",
    "        print(model_0.state_dict())\n",
    "\n"
   ]
  },
  {
   "cell_type": "code",
   "execution_count": 470,
   "metadata": {},
   "outputs": [
    {
     "data": {
      "text/plain": [
       "array([0.63310057, 0.5178906 , 0.40268058, 0.28747052, 0.17226057,\n",
       "       0.09272889, 0.06873657, 0.06115143, 0.05703942, 0.05354942,\n",
       "       0.05005943, 0.04662559, 0.04319461, 0.03975581, 0.03632366,\n",
       "       0.03289099, 0.02945219, 0.02602172, 0.02258737, 0.01914857,\n",
       "       0.01571979, 0.01228376, 0.0088463 , 0.00541786, 0.00200796],\n",
       "      dtype=float32)"
      ]
     },
     "execution_count": 470,
     "metadata": {},
     "output_type": "execute_result"
    }
   ],
   "source": [
    "model_0.state_dict()\n",
    "\n",
    "np.array(torch.tensor(loss_values).numpy())\n"
   ]
  },
  {
   "cell_type": "code",
   "execution_count": 471,
   "metadata": {},
   "outputs": [
    {
     "data": {
      "text/plain": [
       "<matplotlib.legend.Legend at 0x7f499b272f90>"
      ]
     },
     "execution_count": 471,
     "metadata": {},
     "output_type": "execute_result"
    },
    {
     "data": {
      "image/png": "[encoded data removed]",
      "text/plain": [
       "<Figure size 640x480 with 1 Axes>"
      ]
     },
     "metadata": {},
     "output_type": "display_data"
    }
   ],
   "source": [
    "epoch_count, loss_values, test_loss_values\n",
    "\n",
    "plt.plot(epoch_count, np.array(torch.tensor(loss_values).numpy()), label=\"Traain Loss\")\n",
    "plt.plot(epoch_count, test_loss_values, label=\"TEst Loss\")\n",
    "plt.title(\"training and test loss curves\")\n",
    "plt.ylabel(\"Loss\")\n",
    "plt.xlabel(\"Epochs\")\n",
    "plt.legend()"
   ]
  },
  {
   "cell_type": "code",
   "execution_count": 472,
   "metadata": {},
   "outputs": [
    {
     "data": {
      "image/png": "[encoded data removed]",
      "text/plain": [
       "<Figure size 1000x700 with 1 Axes>"
      ]
     },
     "metadata": {},
     "output_type": "display_data"
    }
   ],
   "source": [
    "with torch.inference_mode():\n",
    "    y_preds_new = model_0(X_test)\n",
    "\n",
    "plot_predictions(predictions=y_preds_new)"
   ]
  },
  {
   "cell_type": "markdown",
   "metadata": {
    "tags": [
     "parameters"
    ]
   },
   "source": [
    "### Save a model\n",
    "\n",
    "1. `torch.save()` := saves in python .pkl format\n",
    "2. `torch.load()` := load a saved torch model\n",
    "3. `torch.nn.Module.load_state_dict()` := loadds model's saved dict\n"
   ]
  },
  {
   "cell_type": "code",
   "execution_count": 473,
   "metadata": {},
   "outputs": [
    {
     "name": "stdout",
     "output_type": "stream",
     "text": [
      "models/01_torch_model.pth\n"
     ]
    }
   ],
   "source": [
    "from pathlib import Path\n",
    "\n",
    "# create model path\n",
    "MODEL_PATH = Path(\"models\")\n",
    "MODEL_PATH.mkdir(parents=True, exist_ok=True)\n",
    "\n",
    "# create save path\n",
    "MODEL_NAME = \"01_torch_model.pth\"\n",
    "MODEL_SAVE_PATH = MODEL_PATH / MODEL_NAME\n",
    "\n",
    "\n",
    "# save model\n",
    "\n",
    "print(MODEL_SAVE_PATH)\n",
    "torch.save(obj=model_0.state_dict(), f=MODEL_SAVE_PATH)\n"
   ]
  },
  {
   "cell_type": "code",
   "execution_count": 474,
   "metadata": {},
   "outputs": [
    {
     "name": "stdout",
     "output_type": "stream",
     "text": [
      "OrderedDict({'weights': tensor([0.1446]), 'bias': tensor([-0.1165])})\n",
      "OrderedDict({'weights': tensor([0.6943]), 'bias': tensor([0.3050])})\n"
     ]
    }
   ],
   "source": [
    "# Load model\n",
    "\n",
    "loaded_model_0 = LinearRegressionModel()\n",
    "print(loaded_model_0.state_dict())\n",
    "\n",
    "loaded_model_0.load_state_dict(torch.load(f=MODEL_SAVE_PATH))\n",
    "print(loaded_model_0.state_dict())"
   ]
  },
  {
   "cell_type": "code",
   "execution_count": 475,
   "metadata": {},
   "outputs": [
    {
     "data": {
      "text/plain": [
       "tensor([[0.8604],\n",
       "        [0.8743],\n",
       "        [0.8882],\n",
       "        [0.9021],\n",
       "        [0.9160],\n",
       "        [0.9299],\n",
       "        [0.9437],\n",
       "        [0.9576],\n",
       "        [0.9715],\n",
       "        [0.9854]])"
      ]
     },
     "execution_count": 475,
     "metadata": {},
     "output_type": "execute_result"
    }
   ],
   "source": [
    "# make prediction\n",
    "\n",
    "loaded_model_0.eval()\n",
    "with torch.inference_mode():\n",
    "    loaded_model_preds = loaded_model_0(X_test)\n",
    "\n",
    "loaded_model_preds\n"
   ]
  },
  {
   "cell_type": "code",
   "execution_count": null,
   "metadata": {},
   "outputs": [],
   "source": []
  },
  {
   "cell_type": "markdown",
   "metadata": {},
   "source": [
    "# Revisit"
   ]
  },
  {
   "cell_type": "code",
   "execution_count": null,
   "metadata": {},
   "outputs": [],
   "source": []
  }
 ],
 "metadata": {
  "kernelspec": {
   "display_name": "ml",
   "language": "python",
   "name": "python3"
  },
  "language_info": {
   "codemirror_mode": {
    "name": "ipython",
    "version": 3
   },
   "file_extension": ".py",
   "mimetype": "text/x-python",
   "name": "python",
   "nbconvert_exporter": "python",
   "pygments_lexer": "ipython3",
   "version": "3.12.0"
  }
 },
 "nbformat": 4,
 "nbformat_minor": 2
}
