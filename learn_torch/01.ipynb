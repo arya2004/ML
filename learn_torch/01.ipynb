{
 "cells": [
  {
   "cell_type": "code",
   "execution_count": 188,
   "metadata": {},
   "outputs": [
    {
     "data": {
      "text/plain": [
       "'2.1.0.post100'"
      ]
     },
     "execution_count": 188,
     "metadata": {},
     "output_type": "execute_result"
    }
   ],
   "source": [
    "import torch\n",
    "from torch import nn\n",
    "import matplotlib.pyplot as plt\n",
    "\n",
    "torch.__version__\n"
   ]
  },
  {
   "cell_type": "markdown",
   "metadata": {},
   "source": [
    "# Data Preparing and loading"
   ]
  },
  {
   "cell_type": "code",
   "execution_count": 189,
   "metadata": {},
   "outputs": [],
   "source": [
    "# Create known parameters\n",
    "weight = 0.7\n",
    "bias = 0.3\n",
    "\n",
    "# in linear reqgression, weight is 'b' and bias is 'a' from\n",
    "# Y = a + bX\n",
    "\n",
    "start = 0\n",
    "end = 1\n",
    "step = 0.02\n",
    "X = torch.arange(start, end, step).unsqueeze(dim=1)\n",
    "y = weight * X + bias\n",
    "#unsqueeze adds one more bracket"
   ]
  },
  {
   "cell_type": "code",
   "execution_count": 190,
   "metadata": {},
   "outputs": [],
   "source": [
    "# Splitting in training(60-80) and test(20-40) set\n",
    "\n",
    "train_split = int(0.8 * len(X))\n",
    "X_train, y_train = X[:train_split], y[:train_split]\n",
    "X_test,y_test = X[train_split:], y[train_split:]\n"
   ]
  },
  {
   "cell_type": "code",
   "execution_count": 191,
   "metadata": {},
   "outputs": [],
   "source": [
    "def plot_predictions(train_data=X_train, train_lables=y_train, test_data=X_test, test_labels=y_test, predictions=None):\n",
    "    #plots training daat, test data and compare predictiosn\n",
    "    plt.figure(figsize=(10,7))\n",
    "    #Plot training data in blue\n",
    "    plt.scatter(train_data, train_lables, c=\"b\", s=4, label=\"Training data\")\n",
    "    #Plot test data in green\n",
    "    plt.scatter(test_data, test_labels, c=\"g\", s=4, label=\"Testing data\")\n",
    "    # plot predictions if exist\n",
    "\n",
    "    if predictions is not None:\n",
    "        plt.scatter(test_data, predictions, c=\"r\", s=4, label=\"Prediction\")\n",
    "    #legend\n",
    "        \n",
    "    plt.legend(prop={\"size\": 14});\n"
   ]
  },
  {
   "cell_type": "code",
   "execution_count": 192,
   "metadata": {},
   "outputs": [
    {
     "data": {
      "image/png": "[encoded data removed]",
      "text/plain": [
       "<Figure size 1000x700 with 1 Axes>"
      ]
     },
     "metadata": {},
     "output_type": "display_data"
    }
   ],
   "source": [
    "plot_predictions()"
   ]
  },
  {
   "cell_type": "code",
   "execution_count": 193,
   "metadata": {},
   "outputs": [],
   "source": [
    "# create a model with param as A and B\n",
    "# Create linear regression model class\n",
    "\n",
    "class LinearRegressionModel(nn.Module): #inherits from nn.module\n",
    "    def __init__(self):\n",
    "        super().__init__()\n",
    "        self.weights = nn.Parameter(torch.randn(1, requires_grad=True, dtype=torch.float))\n",
    "        self.bias = nn.Parameter(torch.randn(1, requires_grad=True,dtype=torch.float))\n",
    "\n",
    "\n",
    "    # Forward Method to define computation in Model\n",
    "    # x is input data\n",
    "    def forward(self, x: torch.Tensor) -> torch.Tensor: \n",
    "        return self.weights * x + self.bias\n",
    "\n",
    "\n"
   ]
  },
  {
   "cell_type": "markdown",
   "metadata": {},
   "source": [
    "What model does:\n",
    "*  start with random values of weight and bias\n",
    "* Look at training data and adjust the random vaues to get closer to ideal values\n",
    "\n",
    "\n",
    "How it does?\n",
    "1. Gradient Descent\n",
    "2. Back propogation\n",
    "\n",
    "\n",
    "\n",
    "### TOrch model building essentials\n",
    "\n",
    "* torch.nn - contains all building blocks for Neural Network\n",
    "\n",
    "* toech.nn.Parameter - Stores tensors that can be used with nn.Module. If requires_grad=True gradients (used for updating model parameters via gradient descent) are calculated automatically, this is often referred to as \"autograd\".\n",
    "\n",
    "* torch.nn.Module - The base class for all neural network modules, all the building blocks for neural networks are subclasses. If you're building a neural network in PyTorch, your models should subclass nn.Module. Requires a f`orward()` method be implemented.\n",
    "\n",
    "* torch.optim - Contains various optimization algorithms (these tell the model parameters stored in nn.Parameter how to best change to improve gradient descent and in turn reduce the loss).\n",
    "\n",
    "* `def forward()` All nn.Module subclasses require you to override forward(), this is what happens in forward computation\n"
   ]
  },
  {
   "cell_type": "markdown",
   "metadata": {},
   "source": []
  },
  {
   "cell_type": "code",
   "execution_count": 194,
   "metadata": {},
   "outputs": [
    {
     "data": {
      "text/plain": [
       "[Parameter containing:\n",
       " tensor([0.1446], requires_grad=True),\n",
       " Parameter containing:\n",
       " tensor([-0.1165], requires_grad=True)]"
      ]
     },
     "execution_count": 194,
     "metadata": {},
     "output_type": "execute_result"
    }
   ],
   "source": [
    "torch.manual_seed(57)\n",
    "\n",
    "model_0 = LinearRegressionModel()\n",
    "\n",
    "list(model_0.parameters())\n"
   ]
  },
  {
   "cell_type": "code",
   "execution_count": 195,
   "metadata": {},
   "outputs": [
    {
     "data": {
      "text/plain": [
       "OrderedDict([('weights', tensor([0.1446])), ('bias', tensor([-0.1165]))])"
      ]
     },
     "execution_count": 195,
     "metadata": {},
     "output_type": "execute_result"
    }
   ],
   "source": [
    "model_0.state_dict()"
   ]
  },
  {
   "cell_type": "code",
   "execution_count": 196,
   "metadata": {},
   "outputs": [
    {
     "data": {
      "text/plain": [
       "tensor([[-0.0008],\n",
       "        [ 0.0021],\n",
       "        [ 0.0050],\n",
       "        [ 0.0079],\n",
       "        [ 0.0108],\n",
       "        [ 0.0136],\n",
       "        [ 0.0165],\n",
       "        [ 0.0194],\n",
       "        [ 0.0223],\n",
       "        [ 0.0252]])"
      ]
     },
     "execution_count": 196,
     "metadata": {},
     "output_type": "execute_result"
    }
   ],
   "source": [
    "# Make predictions using torch.inference_mode()\n",
    "# When we pass data to our model, it'll go through the model's forward() method and produce a result using the computation we've defined.\n",
    "\n",
    "with torch.inference_mode():\n",
    "    y_preds = model_0(X_test)\n",
    "\n",
    "y_preds\n",
    "\n",
    "#inference reduces gradient"
   ]
  },
  {
   "cell_type": "code",
   "execution_count": 197,
   "metadata": {},
   "outputs": [
    {
     "data": {
      "image/png": "[encoded data removed]",
      "text/plain": [
       "<Figure size 1000x700 with 1 Axes>"
      ]
     },
     "metadata": {},
     "output_type": "display_data"
    }
   ],
   "source": [
    "plot_predictions(predictions=y_preds)"
   ]
  },
  {
   "cell_type": "code",
   "execution_count": 198,
   "metadata": {},
   "outputs": [],
   "source": [
    "# idea of training is to move from randomm param to some known params\n",
    "\n",
    "# One way to measure how poor or wrong your model predictions are is to use a loss func\n",
    "\n",
    "# Loss func is also called cost func or criterion\n",
    "\n",
    "# 5:45:41\n",
    "# loss func is measure of how wrong your predictions are compared to OG\n",
    "\n",
    "# optimizer: Takes into account loss of model and adjust the params\n",
    "\n",
    "# For torch, we need a training loop and a testing loop"
   ]
  },
  {
   "cell_type": "code",
   "execution_count": 199,
   "metadata": {},
   "outputs": [],
   "source": [
    "# set up Loss function (pick fron many)\n",
    "\n",
    "loss_fn = nn.L1Loss()\n",
    "\n",
    "\n",
    "# setup an optimizer (pick fron many)\n",
    "# stochastic gradient descent\n",
    "\n",
    "# LR := learning rate , most imp param\n",
    "# smol Lr, smol change in param\n",
    "\n",
    "optimizer = torch.optim.SGD(params=model_0.parameters(), \n",
    "                            lr=0.01) "
   ]
  },
  {
   "cell_type": "markdown",
   "metadata": {},
   "source": [
    "#### Training Loop (and testing) in Torch\n",
    "\n",
    "0. Loop through data\n",
    "1. Forward pass (involve data moving through model's `forward()` func) := called as forward propogation\n",
    "2. Calculate the loss (compare forward pass prediction to ground truth lable)\n",
    "3. OPtimizer zero grad\n",
    "4. Loss backward - move backwards through network to calculate gradients of each param of model wrt loss (**back propogation**)\n",
    "\n",
    "5. Optimizer step := use to adjust model's param to try and improve loss  (**gradient descent**)"
   ]
  },
  {
   "cell_type": "code",
   "execution_count": 203,
   "metadata": {},
   "outputs": [
    {
     "name": "stdout",
     "output_type": "stream",
     "text": [
      "Epoch: 0 | Train loss: 0.015719790011644363 | Test loss: 0.036095160990953445\n",
      "OrderedDict({'weights': tensor([0.6235]), 'bias': tensor([0.3320])})\n",
      "Epoch: 100 | Train loss: 0.0027762926183640957 | Test loss: 0.013553649187088013\n",
      "OrderedDict({'weights': tensor([0.6904]), 'bias': tensor([0.2950])})\n"
     ]
    }
   ],
   "source": [
    "torch.manual_seed(57)\n",
    "\n",
    "# epoch is one loop through data, hyperparameter\n",
    "epochs = 200\n",
    "\n",
    "# Training\n",
    "\n",
    "# 0.\n",
    "for epoch in range(epochs):\n",
    "    #train mode sets all param that require gradient to gradient\n",
    "    model_0.train()\n",
    "\n",
    "    # 1.\n",
    "    y_pred = model_0(X_train)\n",
    "\n",
    "    # 2.\n",
    "    loss = loss_fn(y_pred, y_train)\n",
    "    # 3. \n",
    "    optimizer.zero_grad() # make it zero, because it accumulates garbage value\n",
    "\n",
    "\n",
    "    # 4.\n",
    "    loss.backward()\n",
    "\n",
    "    # 5.\n",
    "\n",
    "    optimizer.step() \n",
    "\n",
    "    # tessting\n",
    "    model_0.eval() # turns off gradient tracking, not needed for testing\n",
    "\n",
    "    with torch.inference_mode():\n",
    "        #1. do forward pass\n",
    "        test_pred = model_0(X_test)\n",
    "\n",
    "        #2. calculate test loss\n",
    "        test_loss = loss_fn(test_pred, y_test)\n",
    "\n",
    "    \n",
    "\n",
    "    if epoch % 100 == 0:\n",
    "        print(f\"Epoch: {epoch} | Train loss: {loss} | Test loss: {test_loss}\")\n",
    "        # print state\n",
    "        print(model_0.state_dict())\n",
    "\n"
   ]
  },
  {
   "cell_type": "code",
   "execution_count": 204,
   "metadata": {},
   "outputs": [
    {
     "data": {
      "text/plain": [
       "OrderedDict([('weights', tensor([0.6943])), ('bias', tensor([0.3050]))])"
      ]
     },
     "execution_count": 204,
     "metadata": {},
     "output_type": "execute_result"
    }
   ],
   "source": [
    "model_0.state_dict()"
   ]
  },
  {
   "cell_type": "code",
   "execution_count": 205,
   "metadata": {},
   "outputs": [
    {
     "data": {
      "image/png": "[encoded data removed]",
      "text/plain": [
       "<Figure size 1000x700 with 1 Axes>"
      ]
     },
     "metadata": {},
     "output_type": "display_data"
    }
   ],
   "source": [
    "with torch.inference_mode():\n",
    "    y_preds_new = model_0(X_test)\n",
    "\n",
    "plot_predictions(predictions=y_preds_new)"
   ]
  },
  {
   "cell_type": "code",
   "execution_count": null,
   "metadata": {},
   "outputs": [],
   "source": []
  }
 ],
 "metadata": {
  "kernelspec": {
   "display_name": "ml",
   "language": "python",
   "name": "python3"
  },
  "language_info": {
   "codemirror_mode": {
    "name": "ipython",
    "version": 3
   },
   "file_extension": ".py",
   "mimetype": "text/x-python",
   "name": "python",
   "nbconvert_exporter": "python",
   "pygments_lexer": "ipython3",
   "version": "3.12.0"
  }
 },
 "nbformat": 4,
 "nbformat_minor": 2
}
